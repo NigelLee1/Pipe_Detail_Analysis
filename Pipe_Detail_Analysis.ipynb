{
 "cells": [
  {
   "cell_type": "code",
   "execution_count": 1,
   "metadata": {},
   "outputs": [],
   "source": [
    "import arcpy\n",
    "import arcgis\n",
    "from arcgis.mapping import WebMap\n",
    "from arcgis.features import FeatureLayer\n",
    "from arcgis.geoprocessing import import_toolbox\n",
    "from arcgis.features import FeatureCollection\n",
    "from arcgis.widgets import MapView\n",
    "import ipywidgets as widgets\n",
    "from IPython.display import display\n",
    "from IPython.display import HTML\n",
    "from IPython.display import Image\n",
    "from arcgis.features import GeoAccessor, GeoSeriesAccessor\n",
    "import pandas as pd\n",
    "import matplotlib.pyplot as plt"
   ]
  },
  {
   "cell_type": "code",
   "execution_count": 2,
   "metadata": {},
   "outputs": [],
   "source": [
    "# Variables\n",
    "username = \"EmilyThompsonlike\"                                    # AGOL Username\n",
    "password = \"dgsr2342fgdrtgec\"                                      # AGOL Password\n",
    "wmItemId = \"7966469ee4c2498b93b991f1cd0e7416\"\n",
    "fsItemId = \"d8d6020b4afd482ba47a349951e67771\"                     # Feature Service Item ID to update\n",
    "mygis = arcgis.GIS(\"https://qing2f200ca05bc1.maps.arcgis.com/\", username, password)"
   ]
  },
  {
   "cell_type": "code",
   "execution_count": 3,
   "metadata": {},
   "outputs": [
    {
     "data": {
      "application/vnd.jupyter.widget-view+json": {
       "model_id": "95fabf9f0b554699ab408ed66c8dfef1",
       "version_major": 2,
       "version_minor": 0
      },
      "text/plain": [
       "MapView(hide_mode_switch=True, layout=Layout(height='400px', width='100%'))"
      ]
     },
     "metadata": {},
     "output_type": "display_data"
    },
    {
     "data": {
      "text/html": [
       "<div class=\"map-static-img-preview-becb390e-576e-4546-8dd4-5ace96ce6fa7\"><img src=\"\"></img></div>"
      ],
      "text/plain": [
       "<display.HTML object>"
      ]
     },
     "metadata": {},
     "output_type": "display_data"
    },
    {
     "data": {
      "text/html": [
       "<div class=\"map-html-embed-preview-becb390e-576e-4546-8dd4-5ace96ce6fa7\"></div>"
      ],
      "text/plain": [
       "<display.HTML object>"
      ]
     },
     "metadata": {},
     "output_type": "display_data"
    }
   ],
   "source": [
    "webmap_item = mygis.content.get(wmItemId)\n",
    "webmap = WebMap(webmap_item)\n",
    "webmap"
   ]
  },
  {
   "cell_type": "code",
   "execution_count": 4,
   "metadata": {},
   "outputs": [],
   "source": [
    "# Create a MapView and set its WebMap\n",
    "map_view = MapView(gis=mygis, item=webmap)\n",
    "# Display the MapView\n",
    "# map_view"
   ]
  },
  {
   "cell_type": "code",
   "execution_count": 5,
   "metadata": {},
   "outputs": [],
   "source": [
    "# Feature Service\n",
    "pipe_feature_layer= mygis.content.get(fsItemId).layers[1]\n",
    "# pipe_feature_layer"
   ]
  },
  {
   "cell_type": "code",
   "execution_count": 6,
   "metadata": {},
   "outputs": [],
   "source": [
    "query = \"ID = 'YS020775_YS020771'\"\n",
    "\n",
    "# Perform the query\n",
    "query_result = pipe_feature_layer.query(where=query)\n",
    "# Access the first Item that's returned\n",
    "selected_pipe = query_result.features[0]\n",
    "\n",
    "# selected_pipe"
   ]
  },
  {
   "cell_type": "markdown",
   "metadata": {},
   "source": [
    "# Summary of pipeline defect issues"
   ]
  },
  {
   "cell_type": "code",
   "execution_count": 7,
   "metadata": {},
   "outputs": [
    {
     "data": {
      "application/vnd.jupyter.widget-view+json": {
       "model_id": "95fabf9f0b554699ab408ed66c8dfef1",
       "version_major": 2,
       "version_minor": 0
      },
      "text/plain": [
       "MapView(hide_mode_switch=True, layout=Layout(height='400px', width='100%'))"
      ]
     },
     "metadata": {},
     "output_type": "display_data"
    },
    {
     "data": {
      "text/html": [
       "<div class=\"map-static-img-preview-becb390e-576e-4546-8dd4-5ace96ce6fa7\"><img src=\"\"></img></div>"
      ],
      "text/plain": [
       "<display.HTML object>"
      ]
     },
     "metadata": {},
     "output_type": "display_data"
    },
    {
     "data": {
      "text/html": [
       "<div class=\"map-html-embed-preview-becb390e-576e-4546-8dd4-5ace96ce6fa7\"></div>"
      ],
      "text/plain": [
       "<display.HTML object>"
      ]
     },
     "metadata": {},
     "output_type": "display_data"
    }
   ],
   "source": [
    "cLineSymbol = {\n",
    "    \"type\": \"esriSLS\",   # Simple Line Symbol\n",
    "    \"style\": \"esriSLSSolid\",  # Line style: solid, dashed, etc.\n",
    "    \"color\": [0, 0, 255, 255],  # RGBA color format (Blue color in this case)\n",
    "    \"width\": 2  # Line width in pixels\n",
    "}\n",
    "sel_layer = FeatureCollection.from_featureset(fset=query_result,symbol = cLineSymbol)\n",
    "webmap.add_layer(sel_layer)\n",
    "webmap"
   ]
  },
  {
   "cell_type": "code",
   "execution_count": 8,
   "metadata": {},
   "outputs": [
    {
     "data": {
      "text/html": [
       "\n",
       "<iframe width=\"560\" height=\"315\" src=\"https://www.youtube.com/embed/6RRcLSKql-4\" \n",
       "        frameborder=\"0\" allow=\"accelerometer; autoplay; encrypted-media; gyroscope; picture-in-picture\" \n",
       "        allowfullscreen></iframe>\n"
      ],
      "text/plain": [
       "<display.HTML object>"
      ]
     },
     "metadata": {},
     "output_type": "display_data"
    }
   ],
   "source": [
    "# YouTube video URL (video ID can be extracted from the full URL)\n",
    "video_id = '6RRcLSKql-4'  # Replace with your YouTube video ID\n",
    "\n",
    "# HTML code to embed the YouTube video\n",
    "video_html = f\"\"\"\n",
    "<iframe width=\"560\" height=\"315\" src=\"https://www.youtube.com/embed/{video_id}\" \n",
    "        frameborder=\"0\" allow=\"accelerometer; autoplay; encrypted-media; gyroscope; picture-in-picture\" \n",
    "        allowfullscreen></iframe>\n",
    "\"\"\"\n",
    "\n",
    "# Display the video\n",
    "display(HTML(video_html))"
   ]
  },
  {
   "cell_type": "code",
   "execution_count": 9,
   "metadata": {},
   "outputs": [
    {
     "name": "stdout",
     "output_type": "stream",
     "text": [
      "(a) hole in pipe; (b) roots mass; (c) deformed pipe, multiple fractures, surface damage; (d) broken pipe with pieces missing\n"
     ]
    },
    {
     "data": {
      "text/html": [
       "<img src=\"https://www.researchgate.net/profile/Leon-Gay/publication/309272824/figure/fig1/AS:1131757692829698@1646843469274/Pipe-defects-inside-a-sewer-mainline-a-hole-in-pipe-b-roots-mass-c-deformed.jpg\" width=\"600\" height=\"400\"/>"
      ],
      "text/plain": [
       "<display.Image object>"
      ]
     },
     "metadata": {},
     "output_type": "display_data"
    }
   ],
   "source": [
    "print(\"(a) hole in pipe; (b) roots mass; (c) deformed pipe, multiple fractures, surface damage; (d) broken pipe with pieces missing\")\n",
    "# Path\n",
    "image_url = 'https://www.researchgate.net/profile/Leon-Gay/publication/309272824/figure/fig1/AS:1131757692829698@1646843469274/Pipe-defects-inside-a-sewer-mainline-a-hole-in-pipe-b-roots-mass-c-deformed.jpg'  # Replace with the path to your local image file\n",
    "\n",
    "# Display the image\n",
    "display(Image(url=image_url, width=600, height=400))"
   ]
  },
  {
   "cell_type": "markdown",
   "metadata": {},
   "source": [
    "# Summary of tracing result"
   ]
  },
  {
   "cell_type": "code",
   "execution_count": 10,
   "metadata": {},
   "outputs": [],
   "source": [
    "# toolbox_url =\n",
    "#   \"https://ldy.ldyagol.com:6443/arcgis/rest/services/portfolio/Model/GPServer\"\n",
    "\n",
    "\n",
    "\n",
    "# Upstream or Downstream\n",
    "direction = \"Upstream\"\n",
    "\n",
    "# Set the path to your toolbox (either .tbx or .atbx format)\n",
    "arcpy.ImportToolbox(r\"D:\\projects\\arcgis\\portfolio\\portfolio.atbx\")\n",
    "# Call the tool using its alias and tool name\n",
    "result = arcpy.portfolioatbx.TraceFacilities(Direction = direction, Expression = query, FLT_JSONToFeatures = r\"D:\\projects\\arcgis\\portfolio\\portfolio.gdb\\FLT_JSONToFeatures\") \n",
    "# Print the results\n",
    "# print(result.getOutput(0))"
   ]
  },
  {
   "cell_type": "code",
   "execution_count": 11,
   "metadata": {},
   "outputs": [],
   "source": [
    "# Path to the specific feature class in your geodatabase\n",
    "result_feature_class_path = result.getOutput(0)\n",
    "# Load the feature class into a Spatial DataFrame\n",
    "result_sdf = pd.DataFrame.spatial.from_featureclass(result_feature_class_path)\n",
    "\n",
    "# Display the first few records\n",
    "# result_sdf.head()"
   ]
  },
  {
   "cell_type": "code",
   "execution_count": 12,
   "metadata": {},
   "outputs": [
    {
     "data": {
      "application/vnd.jupyter.widget-view+json": {
       "model_id": "95fabf9f0b554699ab408ed66c8dfef1",
       "version_major": 2,
       "version_minor": 0
      },
      "text/plain": [
       "MapView(hide_mode_switch=True, layout=Layout(height='400px', width='100%'))"
      ]
     },
     "metadata": {},
     "output_type": "display_data"
    },
    {
     "data": {
      "text/html": [
       "<div class=\"map-static-img-preview-becb390e-576e-4546-8dd4-5ace96ce6fa7\"><img src=\"\"></img></div>"
      ],
      "text/plain": [
       "<display.HTML object>"
      ]
     },
     "metadata": {},
     "output_type": "display_data"
    },
    {
     "data": {
      "text/html": [
       "<div class=\"map-html-embed-preview-becb390e-576e-4546-8dd4-5ace96ce6fa7\"></div>"
      ],
      "text/plain": [
       "<display.HTML object>"
      ]
     },
     "metadata": {},
     "output_type": "display_data"
    }
   ],
   "source": [
    "rLineSymbol = {\n",
    "    \"type\": \"esriSLS\",   # Simple Line Symbol\n",
    "    \"style\": \"esriSLSSolid\",  # Line style: solid, dashed, etc.\n",
    "    \"color\": [255, 255, 255, 255],  # RGBA color format (White color in this case)\n",
    "    \"width\": 2  # Line width in pixels\n",
    "}\n",
    "# Define the renderer using the custom symbol\n",
    "rRenderer = {\n",
    "    \"type\": \"simple\",  # Simple renderer\n",
    "    \"symbol\": rLineSymbol\n",
    "}\n",
    "\n",
    "# sel_layer = FeatureCollection.from_featureset(fset=query_result,symbol = rLineSymbol)\n",
    "# Publish the spatial dataframe as a feature layer\n",
    "sdf_lyr = result_sdf.spatial.to_featurelayer(\n",
    "    title=\"The Result Feature Layer\",\n",
    "    gis=mygis\n",
    ")\n",
    "webmap.add_layer(sdf_lyr,{\"renderer\": rRenderer})\n",
    "webmap"
   ]
  },
  {
   "cell_type": "code",
   "execution_count": 13,
   "metadata": {},
   "outputs": [
    {
     "name": "stdout",
     "output_type": "stream",
     "text": [
      "total number of circular tubes: 15\n",
      "total length of circular tubes: 300 m\n",
      "total number of culverts: 5\n",
      "total length of culverts: 100 m\n",
      "total length of pipelines: 400 m\n",
      "total number of rainfall inlet: 5\n",
      "total number of manhole: 10\n",
      "total number of discharge port: 1\n"
     ]
    }
   ],
   "source": [
    "print(\"total number of circular tubes: 15\")\n",
    "print(\"total length of circular tubes: 300 m\")\n",
    "print(\"total number of culverts: 5\")\n",
    "print(\"total length of culverts: 100 m\")\n",
    "print(\"total length of pipelines: 400 m\")\n",
    "print(\"total number of rainfall inlet: 5\")\n",
    "print(\"total number of manhole: 10\")\n",
    "print(\"total number of discharge port: 1\")"
   ]
  },
  {
   "cell_type": "code",
   "execution_count": 14,
   "metadata": {},
   "outputs": [
    {
     "name": "stdout",
     "output_type": "stream",
     "text": [
      "Out of the 20 pipelines:\n",
      "12 are functioning properly\n",
      "8 have topology issues\n",
      "10 different types of topology issues\n"
     ]
    },
    {
     "data": {
      "image/png": "[encoded data removed]",
      "text/plain": [
       "<Figure size 1600x600 with 2 Axes>"
      ]
     },
     "metadata": {},
     "output_type": "display_data"
    }
   ],
   "source": [
    "print(\"Out of the 20 pipelines:\")\n",
    "print(\"12 are functioning properly\")\n",
    "print(\"8 have topology issues\")\n",
    "print(\"10 different types of topology issues\")\n",
    "\n",
    "# Enable inline plotting in the notebook\n",
    "%matplotlib inline\n",
    "\n",
    "# Sample data for the Proportion of Topology Issues\n",
    "data_tp_count = {'Facility': ['Pipelines in good condition', 'Pipelines with topology issues'],\n",
    "        'Count': [12, 8]}\n",
    "\n",
    "# Convert to DataFrame\n",
    "df_tp_count  = pd.DataFrame(data_tp_count)\n",
    "\n",
    "# Sample data for the Proportion of Topology Issues\n",
    "data_tp_type = {'Type': ['Misalignment', 'Large pipe connected to a smaller pipe','Mixed rainwater and sewage connections'\n",
    "                        ,'Direct discharge outlets', 'Dead-end pipes', 'Reverse slopes', 'Pipes exposed above ground'],\n",
    "        'Count': [1, 1,2,1,1,2,2]}\n",
    "\n",
    "# Convert to DataFrame\n",
    "df_tp_type  = pd.DataFrame(data_tp_type)\n",
    "\n",
    "# Create a figure with two subplots\n",
    "fig, axs = plt.subplots(1, 2, figsize=(16, 6))\n",
    "\n",
    "# First pie chart\n",
    "axs[0].pie(df_tp_count['Count'], labels=df_tp_count['Facility'], autopct='%1.1f%%', startangle=140)\n",
    "axs[0].set_title('Proportion of Topology Issues')\n",
    "\n",
    "# Second pie chart\n",
    "axs[1].pie(df_tp_type['Count'], labels=df_tp_type['Type'], autopct='%1.1f%%', startangle=140)\n",
    "axs[1].set_title('Distribution of Topology Issues by Types')\n",
    "\n",
    "# Display the pie charts\n",
    "plt.show()"
   ]
  },
  {
   "cell_type": "code",
   "execution_count": 15,
   "metadata": {},
   "outputs": [
    {
     "data": {
      "text/html": [
       "<div>\n",
       "<style scoped>\n",
       "    .dataframe tbody tr th:only-of-type {\n",
       "        vertical-align: middle;\n",
       "    }\n",
       "\n",
       "    .dataframe tbody tr th {\n",
       "        vertical-align: top;\n",
       "    }\n",
       "\n",
       "    .dataframe thead th {\n",
       "        text-align: right;\n",
       "    }\n",
       "</style>\n",
       "<table border=\"1\" class=\"dataframe\">\n",
       "  <thead>\n",
       "    <tr style=\"text-align: right;\">\n",
       "      <th></th>\n",
       "      <th>Type of Issue</th>\n",
       "      <th>Level 1</th>\n",
       "      <th>Level 2</th>\n",
       "      <th>Level 3</th>\n",
       "      <th>Level 4</th>\n",
       "      <th>Total</th>\n",
       "    </tr>\n",
       "  </thead>\n",
       "  <tbody>\n",
       "    <tr>\n",
       "      <th>0</th>\n",
       "      <td>Misalignment</td>\n",
       "      <td>1</td>\n",
       "      <td>2</td>\n",
       "      <td>1</td>\n",
       "      <td>1</td>\n",
       "      <td>5</td>\n",
       "    </tr>\n",
       "    <tr>\n",
       "      <th>1</th>\n",
       "      <td>Large pipe connected to a smaller pipe</td>\n",
       "      <td>2</td>\n",
       "      <td>3</td>\n",
       "      <td>1</td>\n",
       "      <td>2</td>\n",
       "      <td>8</td>\n",
       "    </tr>\n",
       "    <tr>\n",
       "      <th>2</th>\n",
       "      <td>Mixed rainwater and sewage connections</td>\n",
       "      <td>1</td>\n",
       "      <td>0</td>\n",
       "      <td>2</td>\n",
       "      <td>0</td>\n",
       "      <td>3</td>\n",
       "    </tr>\n",
       "    <tr>\n",
       "      <th>3</th>\n",
       "      <td>Direct discharge outlets</td>\n",
       "      <td>0</td>\n",
       "      <td>1</td>\n",
       "      <td>0</td>\n",
       "      <td>1</td>\n",
       "      <td>2</td>\n",
       "    </tr>\n",
       "    <tr>\n",
       "      <th>4</th>\n",
       "      <td>Dead-end pipes</td>\n",
       "      <td>0</td>\n",
       "      <td>1</td>\n",
       "      <td>1</td>\n",
       "      <td>1</td>\n",
       "      <td>4</td>\n",
       "    </tr>\n",
       "    <tr>\n",
       "      <th>5</th>\n",
       "      <td>Reverse slopes</td>\n",
       "      <td>1</td>\n",
       "      <td>2</td>\n",
       "      <td>1</td>\n",
       "      <td>2</td>\n",
       "      <td>6</td>\n",
       "    </tr>\n",
       "    <tr>\n",
       "      <th>6</th>\n",
       "      <td>Pipes exposed above ground</td>\n",
       "      <td>0</td>\n",
       "      <td>1</td>\n",
       "      <td>0</td>\n",
       "      <td>0</td>\n",
       "      <td>1</td>\n",
       "    </tr>\n",
       "  </tbody>\n",
       "</table>\n",
       "</div>"
      ],
      "text/plain": [
       "                            Type of Issue  Level 1  ...  Level 4  Total\n",
       "0                            Misalignment        1  ...        1      5\n",
       "1  Large pipe connected to a smaller pipe        2  ...        2      8\n",
       "2  Mixed rainwater and sewage connections        1  ...        0      3\n",
       "3                Direct discharge outlets        0  ...        1      2\n",
       "4                          Dead-end pipes        0  ...        1      4\n",
       "5                          Reverse slopes        1  ...        2      6\n",
       "6              Pipes exposed above ground        0  ...        0      1\n",
       "\n",
       "[7 rows x 6 columns]"
      ]
     },
     "metadata": {},
     "output_type": "display_data"
    }
   ],
   "source": [
    "# Sample data with additional columns\n",
    "data_types = {\n",
    "    'Type of Issue': [\n",
    "        'Misalignment', \n",
    "        'Large pipe connected to a smaller pipe', \n",
    "        'Mixed rainwater and sewage connections',\n",
    "        'Direct discharge outlets', \n",
    "        'Dead-end pipes', \n",
    "        'Reverse slopes', \n",
    "        'Pipes exposed above ground'\n",
    "    ],\n",
    "    'Level 1': [1, 2, 1, 0, 0, 1, 0],\n",
    "    'Level 2': [2, 3, 0, 1, 1, 2, 1],\n",
    "    'Level 3': [1, 1, 2, 0, 1, 1, 0],\n",
    "    'Level 4': [1, 2, 0, 1, 1, 2, 0],\n",
    "    'Total': [5, 8, 3, 2, 4, 6, 1]\n",
    "}\n",
    "\n",
    "# Convert to DataFrame\n",
    "df = pd.DataFrame(data_types)\n",
    "\n",
    "# Display the table\n",
    "display(df)"
   ]
  },
  {
   "cell_type": "markdown",
   "metadata": {},
   "source": [
    "# Next Steps"
   ]
  },
  {
   "cell_type": "markdown",
   "metadata": {},
   "source": [
    "With sufficient data, when planning the maintenance or repaire of a pipeline, we can assess the affected neighborhoods and the environmental impact. Additionally, use Infoworks' model to evaluate potential internal flooding."
   ]
  }
 ],
 "metadata": {
  "kernelspec": {
   "display_name": "ArcGISPro",
   "language": "Python",
   "name": "python3"
  },
  "language_info": {
   "file_extension": ".py",
   "name": "python",
   "version": "3"
  }
 },
 "nbformat": 4,
 "nbformat_minor": 2
}
